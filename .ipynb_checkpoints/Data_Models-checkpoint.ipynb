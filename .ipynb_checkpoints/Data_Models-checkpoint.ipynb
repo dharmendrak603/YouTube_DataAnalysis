{
 "cells": [
  {
   "cell_type": "code",
   "execution_count": 1,
   "id": "aea14b6d",
   "metadata": {},
   "outputs": [],
   "source": [
    "from pyspark.sql import SparkSession\n",
    "from pyspark.sql.types import StructType, StructField, StringType, IntegerType, FloatType, DateType\n"
   ]
  },
  {
   "cell_type": "code",
   "execution_count": 2,
   "id": "8b02fc4b",
   "metadata": {},
   "outputs": [],
   "source": [
    "spark = SparkSession.builder.appName(\"data_model\").getOrCreate()\n"
   ]
  },
  {
   "cell_type": "code",
   "execution_count": 5,
   "id": "3581b7cc",
   "metadata": {},
   "outputs": [],
   "source": [
    "youtube_india_DM = StructType([StructField(\"video_id\", StringType(), True),\n",
    "                               StructField(\"trending_date\", StringType(), True),\n",
    "                               StructField(\"title\", StringType(),True),\n",
    "                               StructField(\"channel_title\", StringType(), True),\n",
    "                               StructField(\"category_id\", IntegerType(), True),\n",
    "                               StructField(\"publish_time\", StringType(), True),\n",
    "                               StructField(\"tags\", StringType(), True),\n",
    "                               StructField(\"views\", IntegerType(), True),\n",
    "                               StructField(\"likes\", IntegerType(), True),\n",
    "                               StructField(\"dislikes\", IntegerType(), True),\n",
    "                               StructField(\"comment_count\", IntegerType(), True),\n",
    "                               StructField(\"thumbnail_link\", StringType(), True),\n",
    "                               StructField(\"comments_disabled\", StringType(), True),\n",
    "                               StructField(\"ratings_disabled\", StringType(), True),\n",
    "                               StructField(\"video_error_or_removed\", StringType(), True),\n",
    "                               StructField(\"description\", StringType(), True)                            \n",
    "                              \n",
    "                              \n",
    "                              ])"
   ]
  },
  {
   "cell_type": "code",
   "execution_count": null,
   "id": "82c11aca",
   "metadata": {},
   "outputs": [],
   "source": []
  }
 ],
 "metadata": {
  "kernelspec": {
   "display_name": "Python 3 (ipykernel)",
   "language": "python",
   "name": "python3"
  },
  "language_info": {
   "codemirror_mode": {
    "name": "ipython",
    "version": 3
   },
   "file_extension": ".py",
   "mimetype": "text/x-python",
   "name": "python",
   "nbconvert_exporter": "python",
   "pygments_lexer": "ipython3",
   "version": "3.11.7"
  }
 },
 "nbformat": 4,
 "nbformat_minor": 5
}
