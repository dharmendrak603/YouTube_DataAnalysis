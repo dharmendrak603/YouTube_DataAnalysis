{
 "cells": [
  {
   "cell_type": "code",
   "execution_count": 1,
   "id": "984d4c53",
   "metadata": {},
   "outputs": [],
   "source": [
    "%run \"C:\\Users\\dharmendrkumar\\Downloads\\Data Engineering\\Youtube\\Data_Models.ipynb\""
   ]
  },
  {
   "cell_type": "code",
   "execution_count": 2,
   "id": "5ed90481",
   "metadata": {},
   "outputs": [],
   "source": [
    "from pyspark.sql import SparkSession\n",
    "\n",
    "# Create a Spark session\n",
    "spark = SparkSession.builder.appName(\"youtube\").getOrCreate()"
   ]
  },
  {
   "cell_type": "code",
   "execution_count": 3,
   "id": "017fd94d",
   "metadata": {},
   "outputs": [],
   "source": [
    "youtube_in_original = spark.read.csv(r\"C:\\Users\\dharmendrkumar\\Downloads\\Data Engineering\\Youtube\\data\\INvideos.csv\", header=True, schema=youtube_india_DM)"
   ]
  },
  {
   "cell_type": "code",
   "execution_count": 4,
   "id": "e63cfe53",
   "metadata": {
    "scrolled": true
   },
   "outputs": [
    {
     "name": "stdout",
     "output_type": "stream",
     "text": [
      "root\n",
      " |-- video_id: string (nullable = true)\n",
      " |-- trending_date: date (nullable = true)\n",
      " |-- title: string (nullable = true)\n",
      " |-- channel_title: string (nullable = true)\n",
      " |-- category_id: integer (nullable = true)\n",
      " |-- publish_time: date (nullable = true)\n",
      " |-- tags: string (nullable = true)\n",
      " |-- views: integer (nullable = true)\n",
      " |-- likes: integer (nullable = true)\n",
      " |-- dislikes: integer (nullable = true)\n",
      " |-- comment_count: integer (nullable = true)\n",
      " |-- thumbnail_link: string (nullable = true)\n",
      " |-- comments_disabled: string (nullable = true)\n",
      " |-- ratings_disabled: string (nullable = true)\n",
      " |-- video_error_or_removed: string (nullable = true)\n",
      " |-- description: string (nullable = true)\n",
      "\n"
     ]
    }
   ],
   "source": [
    "youtube_in_original.printSchema()"
   ]
  },
  {
   "cell_type": "code",
   "execution_count": 5,
   "id": "4cd08019",
   "metadata": {},
   "outputs": [
    {
     "name": "stdout",
     "output_type": "stream",
     "text": [
      "+-----------+-------------+--------------------+---------------+-----------+------------+--------------------+-------+-----+--------+-------------+--------------------+-----------------+----------------+----------------------+--------------------+\n",
      "|   video_id|trending_date|               title|  channel_title|category_id|publish_time|                tags|  views|likes|dislikes|comment_count|      thumbnail_link|comments_disabled|ratings_disabled|video_error_or_removed|         description|\n",
      "+-----------+-------------+--------------------+---------------+-----------+------------+--------------------+-------+-----+--------+-------------+--------------------+-----------------+----------------+----------------------+--------------------+\n",
      "|kzwfHumJyYc|         NULL|Sharry Mann: Cute...|Lokdhun Punjabi|          1|  2017-11-12|\"sharry mann|\"\"sh...|1096327|33966|     798|          882|https://i.ytimg.c...|            FALSE|           FALSE|                 FALSE|Presenting Sharry...|\n",
      "|zUZ1z7FwLc8|         NULL|पीरियड्स के समय, ...|        HJ NEWS|         25|  2017-11-13|\"पीरियड्स के समय|...| 590101|  735|     904|            0|https://i.ytimg.c...|             TRUE|           FALSE|                 FALSE|पीरियड्स के समय, ...|\n",
      "|10L1hZ9qa58|         NULL|Stylish Star Allu...|           TFPC|         24|  2017-11-12|\"Stylish Star All...| 473988| 2011|     243|          149|https://i.ytimg.c...|            FALSE|           FALSE|                 FALSE|Watch Stylish Sta...|\n",
      "+-----------+-------------+--------------------+---------------+-----------+------------+--------------------+-------+-----+--------+-------------+--------------------+-----------------+----------------+----------------------+--------------------+\n",
      "only showing top 3 rows\n",
      "\n"
     ]
    }
   ],
   "source": [
    "youtube_in_original.show(3)"
   ]
  },
  {
   "cell_type": "code",
   "execution_count": null,
   "id": "8088501c",
   "metadata": {},
   "outputs": [],
   "source": [
    "youtube_in_original.groupBy()"
   ]
  }
 ],
 "metadata": {
  "kernelspec": {
   "display_name": "Python 3 (ipykernel)",
   "language": "python",
   "name": "python3"
  },
  "language_info": {
   "codemirror_mode": {
    "name": "ipython",
    "version": 3
   },
   "file_extension": ".py",
   "mimetype": "text/x-python",
   "name": "python",
   "nbconvert_exporter": "python",
   "pygments_lexer": "ipython3",
   "version": "3.11.7"
  }
 },
 "nbformat": 4,
 "nbformat_minor": 5
}
